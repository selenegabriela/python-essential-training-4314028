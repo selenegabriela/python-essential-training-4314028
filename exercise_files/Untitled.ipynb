{
 "cells": [
  {
   "cell_type": "markdown",
   "id": "48fc7008-4c5c-4b3a-ac60-c37e803e04c7",
   "metadata": {},
   "source": [
    "Some text"
   ]
  },
  {
   "cell_type": "markdown",
   "id": "ac56b998-5579-44e4-82e6-74a754974b1d",
   "metadata": {},
   "source": [
    "# Title\n",
    "## small title"
   ]
  },
  {
   "cell_type": "code",
   "execution_count": 2,
   "id": "782312c7-d931-4836-a056-790ef1ea538a",
   "metadata": {},
   "outputs": [
    {
     "name": "stdout",
     "output_type": "stream",
     "text": [
      "Doing something...\n"
     ]
    }
   ],
   "source": [
    "print('Doing something...')"
   ]
  },
  {
   "cell_type": "code",
   "execution_count": 4,
   "id": "f21721f7-ba06-41cd-a3c1-211306ce06a6",
   "metadata": {},
   "outputs": [],
   "source": [
    "name = \"Selene\""
   ]
  },
  {
   "cell_type": "code",
   "execution_count": 5,
   "id": "0e7bb6f0-4a4c-4aa1-bc83-f6c473215ab7",
   "metadata": {},
   "outputs": [
    {
     "name": "stdout",
     "output_type": "stream",
     "text": [
      "Selene\n"
     ]
    }
   ],
   "source": [
    "print(name)"
   ]
  },
  {
   "cell_type": "code",
   "execution_count": 6,
   "id": "4224eb7f-f7c8-49a9-acea-521eeee86b8b",
   "metadata": {},
   "outputs": [
    {
     "data": {
      "text/plain": [
       "str"
      ]
     },
     "execution_count": 6,
     "metadata": {},
     "output_type": "execute_result"
    }
   ],
   "source": [
    "type(name)"
   ]
  },
  {
   "cell_type": "code",
   "execution_count": 7,
   "id": "60ae4137-f86e-4cbd-b35e-701207180238",
   "metadata": {},
   "outputs": [
    {
     "data": {
      "text/plain": [
       "bool"
      ]
     },
     "execution_count": 7,
     "metadata": {},
     "output_type": "execute_result"
    }
   ],
   "source": [
    "type(True)"
   ]
  },
  {
   "cell_type": "code",
   "execution_count": 8,
   "id": "40328f48-d381-4c80-b521-64a8613d62ae",
   "metadata": {},
   "outputs": [
    {
     "data": {
      "text/plain": [
       "27"
      ]
     },
     "execution_count": 8,
     "metadata": {},
     "output_type": "execute_result"
    }
   ],
   "source": [
    "3**3"
   ]
  },
  {
   "cell_type": "code",
   "execution_count": 10,
   "id": "99f9811e-0b95-479b-89b8-6b9aa1159383",
   "metadata": {},
   "outputs": [
    {
     "data": {
      "text/plain": [
       "'little dogs little dogs little dogs little dogs little dogs '"
      ]
     },
     "execution_count": 10,
     "metadata": {},
     "output_type": "execute_result"
    }
   ],
   "source": [
    "'little dogs ' * 5"
   ]
  },
  {
   "cell_type": "code",
   "execution_count": null,
   "id": "95675023-9b00-4310-86b9-91f0d7ed560d",
   "metadata": {},
   "outputs": [],
   "source": []
  }
 ],
 "metadata": {
  "kernelspec": {
   "display_name": "Python 3 (ipykernel)",
   "language": "python",
   "name": "python3"
  },
  "language_info": {
   "codemirror_mode": {
    "name": "ipython",
    "version": 3
   },
   "file_extension": ".py",
   "mimetype": "text/x-python",
   "name": "python",
   "nbconvert_exporter": "python",
   "pygments_lexer": "ipython3",
   "version": "3.12.0"
  }
 },
 "nbformat": 4,
 "nbformat_minor": 5
}
